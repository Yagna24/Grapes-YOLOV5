{
  "nbformat": 4,
  "nbformat_minor": 0,
  "metadata": {
    "colab": {
      "name": "YOLOv5-Custom-Training.ipynb",
      "provenance": [],
      "collapsed_sections": []
    },
    "kernelspec": {
      "name": "python3",
      "display_name": "Python 3"
    },
    "language_info": {
      "name": "python"
    }
  },
  "cells": [
    {
      "cell_type": "code",
      "metadata": {
        "colab": {
          "base_uri": "https://localhost:8080/"
        },
        "id": "kTvDNSILZoN9",
        "outputId": "31efffee-c1ba-4a64-d371-ef324b4acd26"
      },
      "source": [
        "!git clone https://github.com/ultralytics/yolov5  \n",
        "%cd yolov5\n",
        "%pip install -qr requirements.txt \n",
        "%pip install -q roboflow\n",
        "\n",
        "import torch\n",
        "import os\n",
        "from IPython.display import Image, clear_output  \n",
        "\n",
        "print(f\"Setup complete. Using torch {torch.__version__} ({torch.cuda.get_device_properties(0).name if torch.cuda.is_available() else 'CPU'})\")"
      ],
      "execution_count": 1,
      "outputs": [
        {
          "output_type": "stream",
          "name": "stdout",
          "text": [
            "Cloning into 'yolov5'...\n",
            "remote: Enumerating objects: 11193, done.\u001b[K\n",
            "remote: Counting objects: 100% (17/17), done.\u001b[K\n",
            "remote: Compressing objects: 100% (14/14), done.\u001b[K\n",
            "remote: Total 11193 (delta 4), reused 13 (delta 3), pack-reused 11176\u001b[K\n",
            "Receiving objects: 100% (11193/11193), 11.19 MiB | 20.21 MiB/s, done.\n",
            "Resolving deltas: 100% (7726/7726), done.\n",
            "/content/yolov5\n",
            "\u001b[K     |████████████████████████████████| 596 kB 8.8 MB/s \n",
            "\u001b[K     |████████████████████████████████| 178 kB 10.5 MB/s \n",
            "\u001b[K     |████████████████████████████████| 1.1 MB 35.3 MB/s \n",
            "\u001b[K     |████████████████████████████████| 138 kB 55.5 MB/s \n",
            "\u001b[K     |████████████████████████████████| 145 kB 56.3 MB/s \n",
            "\u001b[K     |████████████████████████████████| 67 kB 5.9 MB/s \n",
            "\u001b[K     |████████████████████████████████| 63 kB 1.8 MB/s \n",
            "\u001b[?25h  Building wheel for wget (setup.py) ... \u001b[?25l\u001b[?25hdone\n",
            "\u001b[31mERROR: pip's dependency resolver does not currently take into account all the packages that are installed. This behaviour is the source of the following dependency conflicts.\n",
            "google-colab 1.0.0 requires requests~=2.23.0, but you have requests 2.27.1 which is incompatible.\n",
            "datascience 0.10.6 requires folium==0.2.1, but you have folium 0.8.3 which is incompatible.\n",
            "albumentations 0.1.12 requires imgaug<0.2.7,>=0.2.5, but you have imgaug 0.2.9 which is incompatible.\u001b[0m\n",
            "Setup complete. Using torch 1.10.0+cu111 (CPU)\n"
          ]
        }
      ]
    },
    {
      "cell_type": "code",
      "source": [
        "!nvidia-smi \n"
      ],
      "metadata": {
        "colab": {
          "base_uri": "https://localhost:8080/"
        },
        "id": "tBcbe02v2QIX",
        "outputId": "b5e7a603-b1bb-4d64-dab1-bcaba8e67e94"
      },
      "execution_count": 2,
      "outputs": [
        {
          "output_type": "stream",
          "name": "stdout",
          "text": [
            "NVIDIA-SMI has failed because it couldn't communicate with the NVIDIA driver. Make sure that the latest NVIDIA driver is installed and running.\n",
            "\n"
          ]
        }
      ]
    },
    {
      "cell_type": "code",
      "metadata": {
        "colab": {
          "base_uri": "https://localhost:8080/"
        },
        "id": "R2wGvjd4Z_92",
        "outputId": "3839afc3-4ffc-4810-9ba0-8f79c510321a"
      },
      "source": [
        "!pip install roboflow\n",
        "from roboflow import Roboflow\n",
        "rf = Roboflow(model_format=\"yolov5\", notebook=\"ultralytics\")"
      ],
      "execution_count": null,
      "outputs": [
        {
          "output_type": "stream",
          "name": "stdout",
          "text": [
            "Requirement already satisfied: roboflow in /usr/local/lib/python3.7/dist-packages (0.2.2)\n",
            "Requirement already satisfied: kiwisolver==1.3.1 in /usr/local/lib/python3.7/dist-packages (from roboflow) (1.3.1)\n",
            "Requirement already satisfied: python-dotenv in /usr/local/lib/python3.7/dist-packages (from roboflow) (0.19.2)\n",
            "Requirement already satisfied: chardet==4.0.0 in /usr/local/lib/python3.7/dist-packages (from roboflow) (4.0.0)\n",
            "Requirement already satisfied: pyparsing==2.4.7 in /usr/local/lib/python3.7/dist-packages (from roboflow) (2.4.7)\n",
            "Requirement already satisfied: tqdm>=4.41.0 in /usr/local/lib/python3.7/dist-packages (from roboflow) (4.63.0)\n",
            "Requirement already satisfied: Pillow>=7.1.2 in /usr/local/lib/python3.7/dist-packages (from roboflow) (7.1.2)\n",
            "Requirement already satisfied: idna==2.10 in /usr/local/lib/python3.7/dist-packages (from roboflow) (2.10)\n",
            "Requirement already satisfied: urllib3==1.26.6 in /usr/local/lib/python3.7/dist-packages (from roboflow) (1.26.6)\n",
            "Requirement already satisfied: six in /usr/local/lib/python3.7/dist-packages (from roboflow) (1.15.0)\n",
            "Requirement already satisfied: wget in /usr/local/lib/python3.7/dist-packages (from roboflow) (3.2)\n",
            "Requirement already satisfied: matplotlib in /usr/local/lib/python3.7/dist-packages (from roboflow) (3.2.2)\n",
            "Requirement already satisfied: requests in /usr/local/lib/python3.7/dist-packages (from roboflow) (2.27.1)\n",
            "Requirement already satisfied: numpy>=1.18.5 in /usr/local/lib/python3.7/dist-packages (from roboflow) (1.21.5)\n",
            "Requirement already satisfied: python-dateutil in /usr/local/lib/python3.7/dist-packages (from roboflow) (2.8.2)\n",
            "Requirement already satisfied: certifi==2021.5.30 in /usr/local/lib/python3.7/dist-packages (from roboflow) (2021.5.30)\n",
            "Requirement already satisfied: PyYAML>=5.3.1 in /usr/local/lib/python3.7/dist-packages (from roboflow) (6.0)\n",
            "Requirement already satisfied: opencv-python>=4.1.2 in /usr/local/lib/python3.7/dist-packages (from roboflow) (4.1.2.30)\n",
            "Requirement already satisfied: cycler==0.10.0 in /usr/local/lib/python3.7/dist-packages (from roboflow) (0.10.0)\n",
            "Requirement already satisfied: charset-normalizer~=2.0.0 in /usr/local/lib/python3.7/dist-packages (from requests->roboflow) (2.0.12)\n",
            "upload and label your dataset, and get an API KEY here: https://app.roboflow.com/?model=yolov5&ref=ultralytics\n"
          ]
        }
      ]
    },
    {
      "cell_type": "code",
      "metadata": {
        "id": "2jjT5uIHo6l5"
      },
      "source": [
        "os.environ[\"DATASET_DIRECTORY\"] = \"/content/datasets\""
      ],
      "execution_count": 3,
      "outputs": []
    },
    {
      "cell_type": "code",
      "metadata": {
        "id": "FwJcaoPGF4VI",
        "colab": {
          "base_uri": "https://localhost:8080/"
        },
        "outputId": "479372f5-ec2b-4c1d-bccd-1b672b65a600"
      },
      "source": [
        "#after following the link above, recieve python code with these fields filled in\n",
        "#from roboflow import Roboflow\n",
        "#rf = Roboflow(api_key=\"YOUR API KEY HERE\")\n",
        "#project = rf.workspace().project(\"YOUR PROJECT\")\n",
        "#dataset = project.version(\"YOUR VERSION\").download(\"yolov5\")\n",
        "\n",
        "from roboflow import Roboflow\n",
        "rf = Roboflow(api_key=\"aAKyumUa9XKixFIYBVdT\")\n",
        "project = rf.workspace(\"yagna-thakkar\").project(\"coco-pklym\")\n",
        "dataset = project.version(3).download(\"yolov5\")\n",
        "\n"
      ],
      "execution_count": 4,
      "outputs": [
        {
          "output_type": "stream",
          "name": "stdout",
          "text": [
            "loading Roboflow workspace...\n",
            "loading Roboflow project...\n",
            "Downloading Dataset Version Zip in /content/datasets/coco-3 to yolov5pytorch: 100% [81813978 / 81813978] bytes\n"
          ]
        },
        {
          "output_type": "stream",
          "name": "stderr",
          "text": [
            "Extracting Dataset Version Zip to /content/datasets/coco-3 in yolov5pytorch:: 100%|██████████| 2373/2373 [00:02<00:00, 875.04it/s] \n"
          ]
        }
      ]
    },
    {
      "cell_type": "code",
      "metadata": {
        "id": "eaFNnxLJbq4J"
      },
      "source": [
        "!python train.py --img 416 --batch 16 --epochs 20 --data {dataset.location}/data.yaml --freeze 10 --weights /content/best-transfer-learning60epochs.pt --hyp /content/yolov5/data/hyps/hyp.scratch-low.yaml --optimizer Adam --evolve --cache\n",
        "\n",
        "# !python train.py --img 416 --batch 16 --epochs 150 --data {dataset.location}/data.yaml --weights yolov5s.pt --cache"
      ],
      "execution_count": null,
      "outputs": []
    },
    {
      "cell_type": "code",
      "source": [
        "from google.colab import files\n",
        "\n",
        "files.download('/content/yolov5/runs/train/exp3/weights/best.pt')\n",
        "files.download('/content/yolov5/runs/train/exp3/weights/last.pt')"
      ],
      "metadata": {
        "colab": {
          "base_uri": "https://localhost:8080/",
          "height": 17
        },
        "id": "lwDEmqECim0U",
        "outputId": "a00bac9d-5dd5-45ab-8c8f-b2cbe97ea85f"
      },
      "execution_count": null,
      "outputs": [
        {
          "output_type": "display_data",
          "data": {
            "application/javascript": [
              "\n",
              "    async function download(id, filename, size) {\n",
              "      if (!google.colab.kernel.accessAllowed) {\n",
              "        return;\n",
              "      }\n",
              "      const div = document.createElement('div');\n",
              "      const label = document.createElement('label');\n",
              "      label.textContent = `Downloading \"${filename}\": `;\n",
              "      div.appendChild(label);\n",
              "      const progress = document.createElement('progress');\n",
              "      progress.max = size;\n",
              "      div.appendChild(progress);\n",
              "      document.body.appendChild(div);\n",
              "\n",
              "      const buffers = [];\n",
              "      let downloaded = 0;\n",
              "\n",
              "      const channel = await google.colab.kernel.comms.open(id);\n",
              "      // Send a message to notify the kernel that we're ready.\n",
              "      channel.send({})\n",
              "\n",
              "      for await (const message of channel.messages) {\n",
              "        // Send a message to notify the kernel that we're ready.\n",
              "        channel.send({})\n",
              "        if (message.buffers) {\n",
              "          for (const buffer of message.buffers) {\n",
              "            buffers.push(buffer);\n",
              "            downloaded += buffer.byteLength;\n",
              "            progress.value = downloaded;\n",
              "          }\n",
              "        }\n",
              "      }\n",
              "      const blob = new Blob(buffers, {type: 'application/binary'});\n",
              "      const a = document.createElement('a');\n",
              "      a.href = window.URL.createObjectURL(blob);\n",
              "      a.download = filename;\n",
              "      div.appendChild(a);\n",
              "      a.click();\n",
              "      div.remove();\n",
              "    }\n",
              "  "
            ],
            "text/plain": [
              "<IPython.core.display.Javascript object>"
            ]
          },
          "metadata": {}
        },
        {
          "output_type": "display_data",
          "data": {
            "application/javascript": [
              "download(\"download_16f66af4-6dc2-4db8-aae6-d35fd510fb18\", \"best.pt\", 14383221)"
            ],
            "text/plain": [
              "<IPython.core.display.Javascript object>"
            ]
          },
          "metadata": {}
        },
        {
          "output_type": "display_data",
          "data": {
            "application/javascript": [
              "\n",
              "    async function download(id, filename, size) {\n",
              "      if (!google.colab.kernel.accessAllowed) {\n",
              "        return;\n",
              "      }\n",
              "      const div = document.createElement('div');\n",
              "      const label = document.createElement('label');\n",
              "      label.textContent = `Downloading \"${filename}\": `;\n",
              "      div.appendChild(label);\n",
              "      const progress = document.createElement('progress');\n",
              "      progress.max = size;\n",
              "      div.appendChild(progress);\n",
              "      document.body.appendChild(div);\n",
              "\n",
              "      const buffers = [];\n",
              "      let downloaded = 0;\n",
              "\n",
              "      const channel = await google.colab.kernel.comms.open(id);\n",
              "      // Send a message to notify the kernel that we're ready.\n",
              "      channel.send({})\n",
              "\n",
              "      for await (const message of channel.messages) {\n",
              "        // Send a message to notify the kernel that we're ready.\n",
              "        channel.send({})\n",
              "        if (message.buffers) {\n",
              "          for (const buffer of message.buffers) {\n",
              "            buffers.push(buffer);\n",
              "            downloaded += buffer.byteLength;\n",
              "            progress.value = downloaded;\n",
              "          }\n",
              "        }\n",
              "      }\n",
              "      const blob = new Blob(buffers, {type: 'application/binary'});\n",
              "      const a = document.createElement('a');\n",
              "      a.href = window.URL.createObjectURL(blob);\n",
              "      a.download = filename;\n",
              "      div.appendChild(a);\n",
              "      a.click();\n",
              "      div.remove();\n",
              "    }\n",
              "  "
            ],
            "text/plain": [
              "<IPython.core.display.Javascript object>"
            ]
          },
          "metadata": {}
        },
        {
          "output_type": "display_data",
          "data": {
            "application/javascript": [
              "download(\"download_be6258f8-9a6f-41f2-b989-9f9bb1be5827\", \"last.pt\", 14383221)"
            ],
            "text/plain": [
              "<IPython.core.display.Javascript object>"
            ]
          },
          "metadata": {}
        }
      ]
    },
    {
      "cell_type": "code",
      "metadata": {
        "id": "1jS9_BxdBBHL"
      },
      "source": [
        "# %load_ext tensorboard\n",
        "# %tensorboard --logdir runs\n",
        "\n",
        "import torch \n",
        "\n",
        "model = torch.load('/content/best(Normal).pt')\n"
      ],
      "execution_count": 14,
      "outputs": []
    },
    {
      "cell_type": "code",
      "source": [
        "%cd /yolov5\n",
        "!python detect.py --weights best-Normal.pt  --img 416 --conf 0.1 --source {dataset.location}/test/images"
      ],
      "metadata": {
        "id": "JHTo3kbqOtTz"
      },
      "execution_count": null,
      "outputs": []
    },
    {
      "cell_type": "code",
      "source": [
        "%cd /yolov5\n",
        "!python detect.py --weights best-transfer.pt  --img 416 --conf 0.1 --source {dataset.location}/test/images"
      ],
      "metadata": {
        "id": "JCz9rLh7Otl7"
      },
      "execution_count": null,
      "outputs": []
    },
    {
      "cell_type": "code",
      "metadata": {
        "id": "TWjjiBcic3Vz",
        "colab": {
          "base_uri": "https://localhost:8080/"
        },
        "outputId": "485369e6-4c29-4718-9f35-aec9211450b3"
      },
      "source": [
        "%cd yolov5\n",
        "!python detect.py --weights /content/best-transfer.pt /content/best-Normal.pt /content/last-Normal.pt /content/last-transfer.pt --img 416 --conf 0.1 --source {dataset.location}/test/images"
      ],
      "execution_count": 24,
      "outputs": [
        {
          "output_type": "stream",
          "name": "stdout",
          "text": [
            "[Errno 2] No such file or directory: 'yolov5'\n",
            "/content/yolov5\n",
            "\u001b[34m\u001b[1mdetect: \u001b[0mweights=['/content/best-transfer.pt', '/content/best-Normal.pt', '/content/last-Normal.pt', '/content/last-transfer.pt'], source=/content/datasets/coco-3/test/images, data=data/coco128.yaml, imgsz=[416, 416], conf_thres=0.1, iou_thres=0.45, max_det=1000, device=, view_img=False, save_txt=False, save_conf=False, save_crop=False, nosave=False, classes=None, agnostic_nms=False, augment=False, visualize=False, update=False, project=runs/detect, name=exp, exist_ok=False, line_thickness=3, hide_labels=False, hide_conf=False, half=False, dnn=False\n",
            "YOLOv5 🚀 v6.1-17-g596de6d torch 1.10.0+cu111 CPU\n",
            "\n",
            "Fusing layers... \n",
            "Model Summary: 213 layers, 7015519 parameters, 0 gradients, 15.8 GFLOPs\n",
            "Fusing layers... \n",
            "Model Summary: 213 layers, 7015519 parameters, 0 gradients, 15.8 GFLOPs\n",
            "Fusing layers... \n",
            "Model Summary: 213 layers, 7015519 parameters, 0 gradients, 15.8 GFLOPs\n",
            "Fusing layers... \n",
            "Model Summary: 213 layers, 7015519 parameters, 0 gradients, 15.8 GFLOPs\n",
            "Ensemble created with ['/content/best-transfer.pt', '/content/best-Normal.pt', '/content/last-Normal.pt', '/content/last-transfer.pt']\n",
            "\n",
            "image 1/40 /content/datasets/coco-3/test/images/label--1-.rf.4fdb58b1d156e39806f1a46e5a03a82e.jpg: 416x416 1 Grapes, Done. (0.619s)\n",
            "image 2/40 /content/datasets/coco-3/test/images/label--10-.rf.58c77ade0e7d20a3e7ec4d5460902f80.jpg: 416x416 1 Grapes, Done. (0.613s)\n",
            "image 3/40 /content/datasets/coco-3/test/images/label--11-.rf.75510965a440a2b3ab862382a7cbb7f9.jpg: 416x416 4 Grapess, Done. (0.595s)\n",
            "image 4/40 /content/datasets/coco-3/test/images/label--12-.rf.ec6f9dca913b555395007b596b56f325.jpg: 416x416 13 Grapess, Done. (0.609s)\n",
            "image 5/40 /content/datasets/coco-3/test/images/label--121-.rf.6ac291e3d72f77512d914c00188f0d25.jpg: 416x416 12 Grapess, Done. (0.593s)\n",
            "image 6/40 /content/datasets/coco-3/test/images/label--127-.rf.89fd64bbaf8cddcab084417d46061c9a.jpg: 416x416 2 Grapess, Done. (0.594s)\n",
            "image 7/40 /content/datasets/coco-3/test/images/label--133-.rf.9aceb7f6c3789f89fa119c2ee2d65e99.jpg: 416x416 4 Grapess, Done. (0.596s)\n",
            "image 8/40 /content/datasets/coco-3/test/images/label--143-.rf.90266d77830edf6a25d104dae51c99cd.jpg: 416x416 2 Grapess, Done. (0.587s)\n",
            "image 9/40 /content/datasets/coco-3/test/images/label--153-.rf.e876c7dd76932ecf6cf591866167656c.jpg: 416x416 9 Grapess, Done. (0.597s)\n",
            "image 10/40 /content/datasets/coco-3/test/images/label--166-.rf.194606ddc4808122dee4e27e4e95a013.jpg: 416x416 3 Grapess, Done. (0.604s)\n",
            "image 11/40 /content/datasets/coco-3/test/images/label--191-.rf.6a44778302636db3acdbf31c79c062ba.jpg: 416x416 4 Grapess, Done. (0.598s)\n",
            "image 12/40 /content/datasets/coco-3/test/images/label--194-.rf.e37bcc17c6f3c82648a3070b84bf9f3e.jpg: 416x416 1 Grapes, Done. (0.587s)\n",
            "image 13/40 /content/datasets/coco-3/test/images/label--196-.rf.194c1a239e7aeb3e07f2ce3df14aabc0.jpg: 416x416 1 Grapes, Done. (0.588s)\n",
            "image 14/40 /content/datasets/coco-3/test/images/label--203-.rf.0a8ff6abcef2bac8f8a754a6c353d86e.jpg: 416x416 2 Grapess, Done. (0.598s)\n",
            "image 15/40 /content/datasets/coco-3/test/images/label--208-.rf.4de4fccdcf2e8d20f10a4a1621173c8e.jpg: 416x416 2 Grapess, Done. (0.589s)\n",
            "image 16/40 /content/datasets/coco-3/test/images/label--210-.rf.05489cd7fc9308dd9922c746b0d2d2af.jpg: 416x416 1 Grapes, Done. (0.588s)\n",
            "image 17/40 /content/datasets/coco-3/test/images/label--211-.rf.19d2837e058f4deb2656aa7bfb1eff0f.jpg: 416x416 1 Grapes, Done. (0.593s)\n",
            "image 18/40 /content/datasets/coco-3/test/images/label--221-.rf.0930382ac7d58c5779bd12e6825acab7.jpg: 416x416 7 Grapess, Done. (0.583s)\n",
            "image 19/40 /content/datasets/coco-3/test/images/label--222-.rf.0d5674916340eb7cb01b1781a728b49e.jpg: 416x416 6 Grapess, Done. (0.591s)\n",
            "image 20/40 /content/datasets/coco-3/test/images/label--239-.rf.6cebd01172a4126506d96a54650a74c1.jpg: 416x416 1 Grapes, Done. (0.597s)\n",
            "image 21/40 /content/datasets/coco-3/test/images/label--267-.rf.1a9a7f53bfed24ccbc1c3f5938beed62.jpg: 416x416 6 Grapess, Done. (0.601s)\n",
            "image 22/40 /content/datasets/coco-3/test/images/label--28-.rf.071fe25f530ab69b99fa5d6b6b1eb7b6.jpg: 416x416 2 Grapess, Done. (0.596s)\n",
            "image 23/40 /content/datasets/coco-3/test/images/label--292-.rf.d5f2f1c4e42e891428e6e6aa800a104b.jpg: 416x416 1 Grapes, Done. (0.590s)\n",
            "image 24/40 /content/datasets/coco-3/test/images/label--297-.rf.aa0bb90ebfed92f86ffb5c0668d95f8f.jpg: 416x416 2 Grapess, Done. (0.591s)\n",
            "image 25/40 /content/datasets/coco-3/test/images/label--307-.rf.eb1d50a417e494e8f81a92ef6930e100.jpg: 416x416 13 Grapess, Done. (0.587s)\n",
            "image 26/40 /content/datasets/coco-3/test/images/label--333-.rf.e7c68cb3d4f84c19807032926762fc11.jpg: 416x416 3 Grapess, Done. (0.607s)\n",
            "image 27/40 /content/datasets/coco-3/test/images/label--335-.rf.f181d3041e9699c6f9bbff82563a311f.jpg: 416x416 3 Grapess, Done. (0.610s)\n",
            "image 28/40 /content/datasets/coco-3/test/images/label--355-.rf.0f469e79742ffe008ed953c6462109cf.jpg: 416x416 1 Grapes, Done. (0.591s)\n",
            "image 29/40 /content/datasets/coco-3/test/images/label--358-.rf.d11d2c7f85ddcb9e980b4808e9f2e3bf.jpg: 416x416 1 Grapes, Done. (0.598s)\n",
            "image 30/40 /content/datasets/coco-3/test/images/label--359-.rf.b56519218a3a4661401ffac8cdd82441.jpg: 416x416 3 Grapess, Done. (0.589s)\n",
            "image 31/40 /content/datasets/coco-3/test/images/label--36-.rf.b3ea1c504f5a5fe1f872087aad0ede83.jpg: 416x416 5 Grapess, Done. (0.598s)\n",
            "image 32/40 /content/datasets/coco-3/test/images/label--37-.rf.edc990ab64fb7ef0ba2c0f170f6de9d7.jpg: 416x416 5 Grapess, Done. (0.596s)\n",
            "image 33/40 /content/datasets/coco-3/test/images/label--40-.rf.baced470177f7543bfd8e334aed6a320.jpg: 416x416 2 Grapess, Done. (0.583s)\n",
            "image 34/40 /content/datasets/coco-3/test/images/label--45-.rf.ffaa5cf2f85bff3f7b82fa2846784fad.jpg: 416x416 4 Grapess, Done. (0.593s)\n",
            "image 35/40 /content/datasets/coco-3/test/images/label--6-.rf.e8ff299eace7809d66aab068fb7c4840.jpg: 416x416 6 Grapess, Done. (0.589s)\n",
            "image 36/40 /content/datasets/coco-3/test/images/label--64-.rf.6ac1d0aeac5cdda3a6a15bf76060d524.jpg: 416x416 6 Grapess, Done. (0.595s)\n",
            "image 37/40 /content/datasets/coco-3/test/images/label--66-.rf.417e11f945d23d50b68eea76621e2b63.jpg: 416x416 7 Grapess, Done. (0.593s)\n",
            "image 38/40 /content/datasets/coco-3/test/images/label--68-.rf.2ab6390fe4b9d351d491591d23f3f74c.jpg: 416x416 4 Grapess, Done. (0.592s)\n",
            "image 39/40 /content/datasets/coco-3/test/images/label--90-.rf.6d401fbab90506cd8fd3a8e8c9913bd9.jpg: 416x416 3 Grapess, Done. (0.594s)\n",
            "image 40/40 /content/datasets/coco-3/test/images/label--99-.rf.c675912d0b701bfef675895c1bbf4fb0.jpg: 416x416 1 Grapes, Done. (0.594s)\n",
            "Speed: 1.0ms pre-process, 595.1ms inference, 1.9ms NMS per image at shape (1, 3, 416, 416)\n",
            "Results saved to \u001b[1mruns/detect/exp4\u001b[0m\n"
          ]
        }
      ]
    },
    {
      "cell_type": "code",
      "source": [
        "# !zip -r /content/normal.zip /content/yolov5/runs/detect/exp\n",
        "\n",
        "# !zip -r /content/transfer.zip /content/yolov5/runs/detect/exp2\n",
        "\n",
        "!zip -r /content/ensembled.zip  /content/yolov5/runs/detect/exp4"
      ],
      "metadata": {
        "colab": {
          "base_uri": "https://localhost:8080/"
        },
        "id": "4c28jOePNMge",
        "outputId": "f343bef1-cc92-439f-959a-aa2021a331df"
      },
      "execution_count": 25,
      "outputs": [
        {
          "output_type": "stream",
          "name": "stdout",
          "text": [
            "  adding: content/yolov5/runs/detect/exp4/ (stored 0%)\n",
            "  adding: content/yolov5/runs/detect/exp4/label--358-.rf.d11d2c7f85ddcb9e980b4808e9f2e3bf.jpg (deflated 6%)\n",
            "  adding: content/yolov5/runs/detect/exp4/label--121-.rf.6ac291e3d72f77512d914c00188f0d25.jpg (deflated 3%)\n",
            "  adding: content/yolov5/runs/detect/exp4/label--1-.rf.4fdb58b1d156e39806f1a46e5a03a82e.jpg (deflated 7%)\n",
            "  adding: content/yolov5/runs/detect/exp4/label--203-.rf.0a8ff6abcef2bac8f8a754a6c353d86e.jpg (deflated 5%)\n",
            "  adding: content/yolov5/runs/detect/exp4/label--10-.rf.58c77ade0e7d20a3e7ec4d5460902f80.jpg (deflated 6%)\n",
            "  adding: content/yolov5/runs/detect/exp4/label--37-.rf.edc990ab64fb7ef0ba2c0f170f6de9d7.jpg (deflated 4%)\n",
            "  adding: content/yolov5/runs/detect/exp4/label--133-.rf.9aceb7f6c3789f89fa119c2ee2d65e99.jpg (deflated 4%)\n",
            "  adding: content/yolov5/runs/detect/exp4/label--307-.rf.eb1d50a417e494e8f81a92ef6930e100.jpg (deflated 3%)\n",
            "  adding: content/yolov5/runs/detect/exp4/label--36-.rf.b3ea1c504f5a5fe1f872087aad0ede83.jpg (deflated 4%)\n",
            "  adding: content/yolov5/runs/detect/exp4/label--12-.rf.ec6f9dca913b555395007b596b56f325.jpg (deflated 2%)\n",
            "  adding: content/yolov5/runs/detect/exp4/label--143-.rf.90266d77830edf6a25d104dae51c99cd.jpg (deflated 5%)\n",
            "  adding: content/yolov5/runs/detect/exp4/label--64-.rf.6ac1d0aeac5cdda3a6a15bf76060d524.jpg (deflated 3%)\n",
            "  adding: content/yolov5/runs/detect/exp4/label--6-.rf.e8ff299eace7809d66aab068fb7c4840.jpg (deflated 4%)\n",
            "  adding: content/yolov5/runs/detect/exp4/label--210-.rf.05489cd7fc9308dd9922c746b0d2d2af.jpg (deflated 6%)\n",
            "  adding: content/yolov5/runs/detect/exp4/label--99-.rf.c675912d0b701bfef675895c1bbf4fb0.jpg (deflated 6%)\n",
            "  adding: content/yolov5/runs/detect/exp4/label--355-.rf.0f469e79742ffe008ed953c6462109cf.jpg (deflated 6%)\n",
            "  adding: content/yolov5/runs/detect/exp4/label--221-.rf.0930382ac7d58c5779bd12e6825acab7.jpg (deflated 4%)\n",
            "  adding: content/yolov5/runs/detect/exp4/label--68-.rf.2ab6390fe4b9d351d491591d23f3f74c.jpg (deflated 4%)\n",
            "  adding: content/yolov5/runs/detect/exp4/label--28-.rf.071fe25f530ab69b99fa5d6b6b1eb7b6.jpg (deflated 5%)\n",
            "  adding: content/yolov5/runs/detect/exp4/label--45-.rf.ffaa5cf2f85bff3f7b82fa2846784fad.jpg (deflated 5%)\n",
            "  adding: content/yolov5/runs/detect/exp4/label--211-.rf.19d2837e058f4deb2656aa7bfb1eff0f.jpg (deflated 5%)\n",
            "  adding: content/yolov5/runs/detect/exp4/label--222-.rf.0d5674916340eb7cb01b1781a728b49e.jpg (deflated 5%)\n",
            "  adding: content/yolov5/runs/detect/exp4/label--239-.rf.6cebd01172a4126506d96a54650a74c1.jpg (deflated 5%)\n",
            "  adding: content/yolov5/runs/detect/exp4/label--11-.rf.75510965a440a2b3ab862382a7cbb7f9.jpg (deflated 4%)\n",
            "  adding: content/yolov5/runs/detect/exp4/label--359-.rf.b56519218a3a4661401ffac8cdd82441.jpg (deflated 5%)\n",
            "  adding: content/yolov5/runs/detect/exp4/label--194-.rf.e37bcc17c6f3c82648a3070b84bf9f3e.jpg (deflated 4%)\n",
            "  adding: content/yolov5/runs/detect/exp4/label--196-.rf.194c1a239e7aeb3e07f2ce3df14aabc0.jpg (deflated 6%)\n",
            "  adding: content/yolov5/runs/detect/exp4/label--191-.rf.6a44778302636db3acdbf31c79c062ba.jpg (deflated 4%)\n",
            "  adding: content/yolov5/runs/detect/exp4/label--66-.rf.417e11f945d23d50b68eea76621e2b63.jpg (deflated 3%)\n",
            "  adding: content/yolov5/runs/detect/exp4/label--166-.rf.194606ddc4808122dee4e27e4e95a013.jpg (deflated 5%)\n",
            "  adding: content/yolov5/runs/detect/exp4/label--90-.rf.6d401fbab90506cd8fd3a8e8c9913bd9.jpg (deflated 4%)\n",
            "  adding: content/yolov5/runs/detect/exp4/label--292-.rf.d5f2f1c4e42e891428e6e6aa800a104b.jpg (deflated 6%)\n",
            "  adding: content/yolov5/runs/detect/exp4/label--40-.rf.baced470177f7543bfd8e334aed6a320.jpg (deflated 4%)\n",
            "  adding: content/yolov5/runs/detect/exp4/label--208-.rf.4de4fccdcf2e8d20f10a4a1621173c8e.jpg (deflated 4%)\n",
            "  adding: content/yolov5/runs/detect/exp4/label--335-.rf.f181d3041e9699c6f9bbff82563a311f.jpg (deflated 5%)\n",
            "  adding: content/yolov5/runs/detect/exp4/label--267-.rf.1a9a7f53bfed24ccbc1c3f5938beed62.jpg (deflated 3%)\n",
            "  adding: content/yolov5/runs/detect/exp4/label--333-.rf.e7c68cb3d4f84c19807032926762fc11.jpg (deflated 4%)\n",
            "  adding: content/yolov5/runs/detect/exp4/label--127-.rf.89fd64bbaf8cddcab084417d46061c9a.jpg (deflated 5%)\n",
            "  adding: content/yolov5/runs/detect/exp4/label--297-.rf.aa0bb90ebfed92f86ffb5c0668d95f8f.jpg (deflated 5%)\n",
            "  adding: content/yolov5/runs/detect/exp4/label--153-.rf.e876c7dd76932ecf6cf591866167656c.jpg (deflated 3%)\n"
          ]
        }
      ]
    },
    {
      "cell_type": "code",
      "source": [
        "from google.colab import files\n",
        "\n",
        "files.download('/content/yolov5/runs/detect/exp')"
      ],
      "metadata": {
        "id": "ze2Rv50mo1hd"
      },
      "execution_count": null,
      "outputs": []
    },
    {
      "cell_type": "code",
      "source": [
        "!python train.py --batch 48 --weights /content/best.pt --data /content/datasets/coco-3/data.yaml --freeze 10 --epochs 60 --cache --img 512 "
      ],
      "metadata": {
        "colab": {
          "base_uri": "https://localhost:8080/"
        },
        "id": "_9ATcPKIqlSe",
        "outputId": "46f4be4f-344f-4983-9f96-74ba1cca7e0f"
      },
      "execution_count": null,
      "outputs": [
        {
          "output_type": "stream",
          "name": "stdout",
          "text": [
            "\u001b[34m\u001b[1mtrain: \u001b[0mweights=/content/best.pt, cfg=, data=/content/datasets/coco-3/data.yaml, hyp=data/hyps/hyp.scratch-low.yaml, epochs=60, batch_size=48, imgsz=512, rect=False, resume=False, nosave=False, noval=False, noautoanchor=False, evolve=None, bucket=, cache=ram, image_weights=False, device=, multi_scale=False, single_cls=False, optimizer=SGD, sync_bn=False, workers=8, project=runs/train, name=exp, exist_ok=False, quad=False, cos_lr=False, label_smoothing=0.0, patience=100, freeze=[10], save_period=-1, local_rank=-1, entity=None, upload_dataset=False, bbox_interval=-1, artifact_alias=latest\n",
            "\u001b[34m\u001b[1mgithub: \u001b[0mup to date with https://github.com/ultralytics/yolov5 ✅\n",
            "YOLOv5 🚀 v6.1-14-g8a66eba torch 1.10.0+cu111 CUDA:0 (Tesla K80, 11441MiB)\n",
            "\n",
            "\u001b[34m\u001b[1mhyperparameters: \u001b[0mlr0=0.01, lrf=0.01, momentum=0.937, weight_decay=0.0005, warmup_epochs=3.0, warmup_momentum=0.8, warmup_bias_lr=0.1, box=0.05, cls=0.5, cls_pw=1.0, obj=1.0, obj_pw=1.0, iou_t=0.2, anchor_t=4.0, fl_gamma=0.0, hsv_h=0.015, hsv_s=0.7, hsv_v=0.4, degrees=0.0, translate=0.1, scale=0.5, shear=0.0, perspective=0.0, flipud=0.0, fliplr=0.5, mosaic=1.0, mixup=0.0, copy_paste=0.0\n",
            "\u001b[34m\u001b[1mWeights & Biases: \u001b[0mrun 'pip install wandb' to automatically track and visualize YOLOv5 🚀 runs (RECOMMENDED)\n",
            "\u001b[34m\u001b[1mTensorBoard: \u001b[0mStart with 'tensorboard --logdir runs/train', view at http://localhost:6006/\n",
            "\n",
            "                 from  n    params  module                                  arguments                     \n",
            "  0                -1  1      3520  models.common.Conv                      [3, 32, 6, 2, 2]              \n",
            "  1                -1  1     18560  models.common.Conv                      [32, 64, 3, 2]                \n",
            "  2                -1  1     18816  models.common.C3                        [64, 64, 1]                   \n",
            "  3                -1  1     73984  models.common.Conv                      [64, 128, 3, 2]               \n",
            "  4                -1  2    115712  models.common.C3                        [128, 128, 2]                 \n",
            "  5                -1  1    295424  models.common.Conv                      [128, 256, 3, 2]              \n",
            "  6                -1  3    625152  models.common.C3                        [256, 256, 3]                 \n",
            "  7                -1  1   1180672  models.common.Conv                      [256, 512, 3, 2]              \n",
            "  8                -1  1   1182720  models.common.C3                        [512, 512, 1]                 \n",
            "  9                -1  1    656896  models.common.SPPF                      [512, 512, 5]                 \n",
            " 10                -1  1    131584  models.common.Conv                      [512, 256, 1, 1]              \n",
            " 11                -1  1         0  torch.nn.modules.upsampling.Upsample    [None, 2, 'nearest']          \n",
            " 12           [-1, 6]  1         0  models.common.Concat                    [1]                           \n",
            " 13                -1  1    361984  models.common.C3                        [512, 256, 1, False]          \n",
            " 14                -1  1     33024  models.common.Conv                      [256, 128, 1, 1]              \n",
            " 15                -1  1         0  torch.nn.modules.upsampling.Upsample    [None, 2, 'nearest']          \n",
            " 16           [-1, 4]  1         0  models.common.Concat                    [1]                           \n",
            " 17                -1  1     90880  models.common.C3                        [256, 128, 1, False]          \n",
            " 18                -1  1    147712  models.common.Conv                      [128, 128, 3, 2]              \n",
            " 19          [-1, 14]  1         0  models.common.Concat                    [1]                           \n",
            " 20                -1  1    296448  models.common.C3                        [256, 256, 1, False]          \n",
            " 21                -1  1    590336  models.common.Conv                      [256, 256, 3, 2]              \n",
            " 22          [-1, 10]  1         0  models.common.Concat                    [1]                           \n",
            " 23                -1  1   1182720  models.common.C3                        [512, 512, 1, False]          \n",
            " 24      [17, 20, 23]  1     18879  models.yolo.Detect                      [2, [[10, 13, 16, 30, 33, 23], [30, 61, 62, 45, 59, 119], [116, 90, 156, 198, 373, 326]], [128, 256, 512]]\n",
            "Model Summary: 270 layers, 7025023 parameters, 7025023 gradients, 15.9 GFLOPs\n",
            "\n",
            "Transferred 349/349 items from /content/best.pt\n",
            "freezing model.0.conv.weight\n",
            "freezing model.0.bn.weight\n",
            "freezing model.0.bn.bias\n",
            "freezing model.1.conv.weight\n",
            "freezing model.1.bn.weight\n",
            "freezing model.1.bn.bias\n",
            "freezing model.2.cv1.conv.weight\n",
            "freezing model.2.cv1.bn.weight\n",
            "freezing model.2.cv1.bn.bias\n",
            "freezing model.2.cv2.conv.weight\n",
            "freezing model.2.cv2.bn.weight\n",
            "freezing model.2.cv2.bn.bias\n",
            "freezing model.2.cv3.conv.weight\n",
            "freezing model.2.cv3.bn.weight\n",
            "freezing model.2.cv3.bn.bias\n",
            "freezing model.2.m.0.cv1.conv.weight\n",
            "freezing model.2.m.0.cv1.bn.weight\n",
            "freezing model.2.m.0.cv1.bn.bias\n",
            "freezing model.2.m.0.cv2.conv.weight\n",
            "freezing model.2.m.0.cv2.bn.weight\n",
            "freezing model.2.m.0.cv2.bn.bias\n",
            "freezing model.3.conv.weight\n",
            "freezing model.3.bn.weight\n",
            "freezing model.3.bn.bias\n",
            "freezing model.4.cv1.conv.weight\n",
            "freezing model.4.cv1.bn.weight\n",
            "freezing model.4.cv1.bn.bias\n",
            "freezing model.4.cv2.conv.weight\n",
            "freezing model.4.cv2.bn.weight\n",
            "freezing model.4.cv2.bn.bias\n",
            "freezing model.4.cv3.conv.weight\n",
            "freezing model.4.cv3.bn.weight\n",
            "freezing model.4.cv3.bn.bias\n",
            "freezing model.4.m.0.cv1.conv.weight\n",
            "freezing model.4.m.0.cv1.bn.weight\n",
            "freezing model.4.m.0.cv1.bn.bias\n",
            "freezing model.4.m.0.cv2.conv.weight\n",
            "freezing model.4.m.0.cv2.bn.weight\n",
            "freezing model.4.m.0.cv2.bn.bias\n",
            "freezing model.4.m.1.cv1.conv.weight\n",
            "freezing model.4.m.1.cv1.bn.weight\n",
            "freezing model.4.m.1.cv1.bn.bias\n",
            "freezing model.4.m.1.cv2.conv.weight\n",
            "freezing model.4.m.1.cv2.bn.weight\n",
            "freezing model.4.m.1.cv2.bn.bias\n",
            "freezing model.5.conv.weight\n",
            "freezing model.5.bn.weight\n",
            "freezing model.5.bn.bias\n",
            "freezing model.6.cv1.conv.weight\n",
            "freezing model.6.cv1.bn.weight\n",
            "freezing model.6.cv1.bn.bias\n",
            "freezing model.6.cv2.conv.weight\n",
            "freezing model.6.cv2.bn.weight\n",
            "freezing model.6.cv2.bn.bias\n",
            "freezing model.6.cv3.conv.weight\n",
            "freezing model.6.cv3.bn.weight\n",
            "freezing model.6.cv3.bn.bias\n",
            "freezing model.6.m.0.cv1.conv.weight\n",
            "freezing model.6.m.0.cv1.bn.weight\n",
            "freezing model.6.m.0.cv1.bn.bias\n",
            "freezing model.6.m.0.cv2.conv.weight\n",
            "freezing model.6.m.0.cv2.bn.weight\n",
            "freezing model.6.m.0.cv2.bn.bias\n",
            "freezing model.6.m.1.cv1.conv.weight\n",
            "freezing model.6.m.1.cv1.bn.weight\n",
            "freezing model.6.m.1.cv1.bn.bias\n",
            "freezing model.6.m.1.cv2.conv.weight\n",
            "freezing model.6.m.1.cv2.bn.weight\n",
            "freezing model.6.m.1.cv2.bn.bias\n",
            "freezing model.6.m.2.cv1.conv.weight\n",
            "freezing model.6.m.2.cv1.bn.weight\n",
            "freezing model.6.m.2.cv1.bn.bias\n",
            "freezing model.6.m.2.cv2.conv.weight\n",
            "freezing model.6.m.2.cv2.bn.weight\n",
            "freezing model.6.m.2.cv2.bn.bias\n",
            "freezing model.7.conv.weight\n",
            "freezing model.7.bn.weight\n",
            "freezing model.7.bn.bias\n",
            "freezing model.8.cv1.conv.weight\n",
            "freezing model.8.cv1.bn.weight\n",
            "freezing model.8.cv1.bn.bias\n",
            "freezing model.8.cv2.conv.weight\n",
            "freezing model.8.cv2.bn.weight\n",
            "freezing model.8.cv2.bn.bias\n",
            "freezing model.8.cv3.conv.weight\n",
            "freezing model.8.cv3.bn.weight\n",
            "freezing model.8.cv3.bn.bias\n",
            "freezing model.8.m.0.cv1.conv.weight\n",
            "freezing model.8.m.0.cv1.bn.weight\n",
            "freezing model.8.m.0.cv1.bn.bias\n",
            "freezing model.8.m.0.cv2.conv.weight\n",
            "freezing model.8.m.0.cv2.bn.weight\n",
            "freezing model.8.m.0.cv2.bn.bias\n",
            "freezing model.9.cv1.conv.weight\n",
            "freezing model.9.cv1.bn.weight\n",
            "freezing model.9.cv1.bn.bias\n",
            "freezing model.9.cv2.conv.weight\n",
            "freezing model.9.cv2.bn.weight\n",
            "freezing model.9.cv2.bn.bias\n",
            "Scaled weight_decay = 0.000375\n",
            "\u001b[34m\u001b[1moptimizer:\u001b[0m SGD with parameter groups 57 weight (no decay), 60 weight, 60 bias\n",
            "\u001b[34m\u001b[1malbumentations: \u001b[0mversion 1.0.3 required by YOLOv5, but version 0.1.12 is currently installed\n",
            "\u001b[34m\u001b[1mtrain: \u001b[0mScanning '/content/datasets/coco-3/train/labels.cache' images and labels... 1071 found, 0 missing, 0 empty, 0 corrupt: 100% 1071/1071 [00:00<?, ?it/s]\n",
            "\u001b[34m\u001b[1mtrain: \u001b[0mCaching images (0.8GB ram): 100% 1071/1071 [00:05<00:00, 208.38it/s]\n",
            "\u001b[34m\u001b[1mval: \u001b[0mScanning '/content/datasets/coco-3/valid/labels.cache' images and labels... 70 found, 0 missing, 0 empty, 0 corrupt: 100% 70/70 [00:00<?, ?it/s]\n",
            "\u001b[34m\u001b[1mval: \u001b[0mCaching images (0.1GB ram): 100% 70/70 [00:00<00:00, 81.64it/s]\n",
            "Plotting labels to runs/train/exp3/labels.jpg... \n",
            "\n",
            "\u001b[34m\u001b[1mAutoAnchor: \u001b[0m4.38 anchors/target, 1.000 Best Possible Recall (BPR). Current anchors are a good fit to dataset ✅\n",
            "Image sizes 512 train, 512 val\n",
            "Using 2 dataloader workers\n",
            "Logging results to \u001b[1mruns/train/exp3\u001b[0m\n",
            "Starting training for 60 epochs...\n",
            "\n",
            "     Epoch   gpu_mem       box       obj       cls    labels  img_size\n",
            "      0/59     2.34G   0.04975   0.04268 0.0005553        72       512: 100% 23/23 [00:30<00:00,  1.31s/it]\n",
            "               Class     Images     Labels          P          R     mAP@.5 mAP@.5:.95: 100% 1/1 [00:01<00:00,  1.47s/it]\n",
            "                 all         70        137      0.672      0.671      0.658      0.281\n",
            "\n",
            "     Epoch   gpu_mem       box       obj       cls    labels  img_size\n",
            "      1/59     3.01G   0.05041   0.04195 0.0004057        82       512: 100% 23/23 [00:27<00:00,  1.22s/it]\n",
            "               Class     Images     Labels          P          R     mAP@.5 mAP@.5:.95: 100% 1/1 [00:01<00:00,  1.43s/it]\n",
            "                 all         70        137      0.643       0.65      0.571      0.204\n",
            "\n",
            "     Epoch   gpu_mem       box       obj       cls    labels  img_size\n",
            "      2/59     3.01G   0.05215   0.04095 0.0004369        68       512: 100% 23/23 [00:28<00:00,  1.22s/it]\n",
            "               Class     Images     Labels          P          R     mAP@.5 mAP@.5:.95: 100% 1/1 [00:01<00:00,  1.44s/it]\n",
            "                 all         70        137      0.658      0.635      0.593      0.263\n",
            "\n",
            "     Epoch   gpu_mem       box       obj       cls    labels  img_size\n",
            "      3/59     3.01G   0.05143   0.04115 0.0005516        85       512: 100% 23/23 [00:27<00:00,  1.22s/it]\n",
            "               Class     Images     Labels          P          R     mAP@.5 mAP@.5:.95: 100% 1/1 [00:01<00:00,  1.44s/it]\n",
            "                 all         70        137      0.608      0.613      0.547      0.218\n",
            "\n",
            "     Epoch   gpu_mem       box       obj       cls    labels  img_size\n",
            "      4/59     3.01G   0.05222   0.04291 0.0005828        92       512: 100% 23/23 [00:27<00:00,  1.22s/it]\n",
            "               Class     Images     Labels          P          R     mAP@.5 mAP@.5:.95: 100% 1/1 [00:01<00:00,  1.46s/it]\n",
            "                 all         70        137      0.601      0.627      0.567      0.178\n",
            "\n",
            "     Epoch   gpu_mem       box       obj       cls    labels  img_size\n",
            "      5/59     3.01G   0.05058   0.04057 0.0006546        75       512: 100% 23/23 [00:27<00:00,  1.22s/it]\n",
            "               Class     Images     Labels          P          R     mAP@.5 mAP@.5:.95: 100% 1/1 [00:01<00:00,  1.45s/it]\n",
            "                 all         70        137      0.634      0.606      0.541       0.23\n",
            "\n",
            "     Epoch   gpu_mem       box       obj       cls    labels  img_size\n",
            "      6/59     3.01G   0.05045   0.04342 0.0006149        69       512: 100% 23/23 [00:27<00:00,  1.22s/it]\n",
            "               Class     Images     Labels          P          R     mAP@.5 mAP@.5:.95: 100% 1/1 [00:01<00:00,  1.46s/it]\n",
            "                 all         70        137      0.695      0.701      0.628       0.28\n",
            "\n",
            "     Epoch   gpu_mem       box       obj       cls    labels  img_size\n",
            "      7/59     3.01G   0.05048   0.04222 0.0006075        91       512: 100% 23/23 [00:28<00:00,  1.22s/it]\n",
            "               Class     Images     Labels          P          R     mAP@.5 mAP@.5:.95: 100% 1/1 [00:01<00:00,  1.42s/it]\n",
            "                 all         70        137      0.706      0.613      0.582      0.263\n",
            "\n",
            "     Epoch   gpu_mem       box       obj       cls    labels  img_size\n",
            "      8/59     3.01G   0.05033   0.04164 0.0003822        86       512: 100% 23/23 [00:27<00:00,  1.22s/it]\n",
            "               Class     Images     Labels          P          R     mAP@.5 mAP@.5:.95: 100% 1/1 [00:01<00:00,  1.43s/it]\n",
            "                 all         70        137      0.719      0.635      0.632       0.28\n",
            "\n",
            "     Epoch   gpu_mem       box       obj       cls    labels  img_size\n",
            "      9/59     3.01G   0.04967   0.04163 0.0005442        72       512: 100% 23/23 [00:28<00:00,  1.22s/it]\n",
            "               Class     Images     Labels          P          R     mAP@.5 mAP@.5:.95: 100% 1/1 [00:01<00:00,  1.43s/it]\n",
            "                 all         70        137      0.682      0.628      0.595      0.228\n",
            "\n",
            "     Epoch   gpu_mem       box       obj       cls    labels  img_size\n",
            "     10/59     3.01G   0.04964   0.04177 0.0005584        87       512: 100% 23/23 [00:28<00:00,  1.23s/it]\n",
            "               Class     Images     Labels          P          R     mAP@.5 mAP@.5:.95: 100% 1/1 [00:01<00:00,  1.43s/it]\n",
            "                 all         70        137      0.616      0.599      0.509      0.186\n",
            "\n",
            "     Epoch   gpu_mem       box       obj       cls    labels  img_size\n",
            "     11/59     3.01G    0.0502   0.04187 0.0003641        88       512: 100% 23/23 [00:27<00:00,  1.21s/it]\n",
            "               Class     Images     Labels          P          R     mAP@.5 mAP@.5:.95: 100% 1/1 [00:01<00:00,  1.43s/it]\n",
            "                 all         70        137      0.637      0.693      0.606      0.271\n",
            "\n",
            "     Epoch   gpu_mem       box       obj       cls    labels  img_size\n",
            "     12/59     3.01G   0.04868   0.04257 0.0005823        92       512: 100% 23/23 [00:27<00:00,  1.22s/it]\n",
            "               Class     Images     Labels          P          R     mAP@.5 mAP@.5:.95: 100% 1/1 [00:01<00:00,  1.44s/it]\n",
            "                 all         70        137      0.602      0.686      0.615      0.272\n",
            "\n",
            "     Epoch   gpu_mem       box       obj       cls    labels  img_size\n",
            "     13/59     3.01G   0.04894   0.04301 0.0004326        81       512: 100% 23/23 [00:27<00:00,  1.22s/it]\n",
            "               Class     Images     Labels          P          R     mAP@.5 mAP@.5:.95: 100% 1/1 [00:01<00:00,  1.43s/it]\n",
            "                 all         70        137      0.687      0.641      0.631      0.296\n",
            "\n",
            "     Epoch   gpu_mem       box       obj       cls    labels  img_size\n",
            "     14/59     3.01G   0.04911   0.04154 0.0004039       105       512: 100% 23/23 [00:28<00:00,  1.22s/it]\n",
            "               Class     Images     Labels          P          R     mAP@.5 mAP@.5:.95: 100% 1/1 [00:01<00:00,  1.43s/it]\n",
            "                 all         70        137      0.645      0.664       0.59      0.222\n",
            "\n",
            "     Epoch   gpu_mem       box       obj       cls    labels  img_size\n",
            "     15/59     3.01G   0.04792   0.04092 0.0004195        60       512: 100% 23/23 [00:27<00:00,  1.22s/it]\n",
            "               Class     Images     Labels          P          R     mAP@.5 mAP@.5:.95: 100% 1/1 [00:01<00:00,  1.44s/it]\n",
            "                 all         70        137      0.682      0.642      0.614      0.244\n",
            "\n",
            "     Epoch   gpu_mem       box       obj       cls    labels  img_size\n",
            "     16/59     3.01G   0.04764   0.04209 0.0004031        73       512: 100% 23/23 [00:28<00:00,  1.23s/it]\n",
            "               Class     Images     Labels          P          R     mAP@.5 mAP@.5:.95: 100% 1/1 [00:01<00:00,  1.43s/it]\n",
            "                 all         70        137      0.691       0.62      0.619      0.225\n",
            "\n",
            "     Epoch   gpu_mem       box       obj       cls    labels  img_size\n",
            "     17/59     3.01G   0.04792   0.04166 0.0003902        92       512: 100% 23/23 [00:28<00:00,  1.23s/it]\n",
            "               Class     Images     Labels          P          R     mAP@.5 mAP@.5:.95: 100% 1/1 [00:01<00:00,  1.44s/it]\n",
            "                 all         70        137      0.666      0.657      0.593      0.264\n",
            "\n",
            "     Epoch   gpu_mem       box       obj       cls    labels  img_size\n",
            "     18/59     3.01G   0.04703    0.0407 0.0003566        69       512: 100% 23/23 [00:28<00:00,  1.22s/it]\n",
            "               Class     Images     Labels          P          R     mAP@.5 mAP@.5:.95: 100% 1/1 [00:01<00:00,  1.42s/it]\n",
            "                 all         70        137      0.645      0.649      0.585      0.231\n",
            "\n",
            "     Epoch   gpu_mem       box       obj       cls    labels  img_size\n",
            "     19/59     3.01G   0.04764   0.04123 0.0003746        67       512: 100% 23/23 [00:28<00:00,  1.22s/it]\n",
            "               Class     Images     Labels          P          R     mAP@.5 mAP@.5:.95: 100% 1/1 [00:01<00:00,  1.43s/it]\n",
            "                 all         70        137      0.646      0.627      0.561      0.251\n",
            "\n",
            "     Epoch   gpu_mem       box       obj       cls    labels  img_size\n",
            "     20/59     3.01G   0.04644   0.04111 0.0002523        73       512: 100% 23/23 [00:28<00:00,  1.22s/it]\n",
            "               Class     Images     Labels          P          R     mAP@.5 mAP@.5:.95: 100% 1/1 [00:01<00:00,  1.42s/it]\n",
            "                 all         70        137      0.712      0.613       0.62      0.256\n",
            "\n",
            "     Epoch   gpu_mem       box       obj       cls    labels  img_size\n",
            "     21/59     3.01G   0.04646   0.04141 0.0003272        58       512: 100% 23/23 [00:28<00:00,  1.22s/it]\n",
            "               Class     Images     Labels          P          R     mAP@.5 mAP@.5:.95: 100% 1/1 [00:01<00:00,  1.43s/it]\n",
            "                 all         70        137      0.629      0.657      0.589       0.25\n",
            "\n",
            "     Epoch   gpu_mem       box       obj       cls    labels  img_size\n",
            "     22/59     3.01G    0.0469   0.04199 0.0003982        73       512: 100% 23/23 [00:28<00:00,  1.22s/it]\n",
            "               Class     Images     Labels          P          R     mAP@.5 mAP@.5:.95: 100% 1/1 [00:01<00:00,  1.45s/it]\n",
            "                 all         70        137      0.628      0.664        0.6      0.265\n",
            "\n",
            "     Epoch   gpu_mem       box       obj       cls    labels  img_size\n",
            "     23/59     3.01G   0.04638   0.03994 0.0004378        83       512: 100% 23/23 [00:28<00:00,  1.22s/it]\n",
            "               Class     Images     Labels          P          R     mAP@.5 mAP@.5:.95: 100% 1/1 [00:01<00:00,  1.43s/it]\n",
            "                 all         70        137      0.656      0.627       0.57      0.218\n",
            "\n",
            "     Epoch   gpu_mem       box       obj       cls    labels  img_size\n",
            "     24/59     3.01G   0.04764   0.03952 0.0006877        66       512: 100% 23/23 [00:28<00:00,  1.22s/it]\n",
            "               Class     Images     Labels          P          R     mAP@.5 mAP@.5:.95: 100% 1/1 [00:01<00:00,  1.42s/it]\n",
            "                 all         70        137      0.618      0.642      0.586      0.251\n",
            "\n",
            "     Epoch   gpu_mem       box       obj       cls    labels  img_size\n",
            "     25/59     3.01G   0.04629    0.0391 0.0004596        76       512: 100% 23/23 [00:28<00:00,  1.22s/it]\n",
            "               Class     Images     Labels          P          R     mAP@.5 mAP@.5:.95: 100% 1/1 [00:01<00:00,  1.44s/it]\n",
            "                 all         70        137      0.698      0.628      0.623      0.252\n",
            "\n",
            "     Epoch   gpu_mem       box       obj       cls    labels  img_size\n",
            "     26/59     3.01G   0.04579   0.04001 0.0002979       100       512: 100% 23/23 [00:28<00:00,  1.22s/it]\n",
            "               Class     Images     Labels          P          R     mAP@.5 mAP@.5:.95: 100% 1/1 [00:01<00:00,  1.42s/it]\n",
            "                 all         70        137      0.706      0.613      0.611       0.29\n",
            "\n",
            "     Epoch   gpu_mem       box       obj       cls    labels  img_size\n",
            "     27/59     3.01G   0.04593   0.04219 0.0004123        86       512: 100% 23/23 [00:28<00:00,  1.22s/it]\n",
            "               Class     Images     Labels          P          R     mAP@.5 mAP@.5:.95: 100% 1/1 [00:01<00:00,  1.44s/it]\n",
            "                 all         70        137      0.605       0.65      0.571      0.231\n",
            "\n",
            "     Epoch   gpu_mem       box       obj       cls    labels  img_size\n",
            "     28/59     3.01G   0.04524   0.04015 0.0002112        56       512: 100% 23/23 [00:28<00:00,  1.22s/it]\n",
            "               Class     Images     Labels          P          R     mAP@.5 mAP@.5:.95: 100% 1/1 [00:01<00:00,  1.42s/it]\n",
            "                 all         70        137       0.71      0.628      0.623      0.266\n",
            "\n",
            "     Epoch   gpu_mem       box       obj       cls    labels  img_size\n",
            "     29/59     3.01G   0.04511   0.04061 0.0003806        92       512: 100% 23/23 [00:28<00:00,  1.22s/it]\n",
            "               Class     Images     Labels          P          R     mAP@.5 mAP@.5:.95: 100% 1/1 [00:01<00:00,  1.43s/it]\n",
            "                 all         70        137      0.689      0.591      0.563      0.209\n",
            "\n",
            "     Epoch   gpu_mem       box       obj       cls    labels  img_size\n",
            "     30/59     3.01G   0.04461   0.04032 0.0004593        86       512: 100% 23/23 [00:28<00:00,  1.22s/it]\n",
            "               Class     Images     Labels          P          R     mAP@.5 mAP@.5:.95: 100% 1/1 [00:01<00:00,  1.43s/it]\n",
            "                 all         70        137      0.628      0.679      0.612      0.264\n",
            "\n",
            "     Epoch   gpu_mem       box       obj       cls    labels  img_size\n",
            "     31/59     3.01G   0.04598   0.03895 0.0001874        77       512: 100% 23/23 [00:28<00:00,  1.22s/it]\n",
            "               Class     Images     Labels          P          R     mAP@.5 mAP@.5:.95: 100% 1/1 [00:01<00:00,  1.41s/it]\n",
            "                 all         70        137      0.691       0.62      0.621      0.291\n",
            "\n",
            "     Epoch   gpu_mem       box       obj       cls    labels  img_size\n",
            "     32/59     3.01G   0.04448   0.04153 0.0004272        84       512: 100% 23/23 [00:28<00:00,  1.22s/it]\n",
            "               Class     Images     Labels          P          R     mAP@.5 mAP@.5:.95: 100% 1/1 [00:01<00:00,  1.41s/it]\n",
            "                 all         70        137       0.64      0.635      0.596      0.269\n",
            "\n",
            "     Epoch   gpu_mem       box       obj       cls    labels  img_size\n",
            "     33/59     3.01G   0.04488   0.04014 0.0002416       110       512: 100% 23/23 [00:28<00:00,  1.22s/it]\n",
            "               Class     Images     Labels          P          R     mAP@.5 mAP@.5:.95: 100% 1/1 [00:01<00:00,  1.42s/it]\n",
            "                 all         70        137       0.59      0.642      0.561      0.243\n",
            "\n",
            "     Epoch   gpu_mem       box       obj       cls    labels  img_size\n",
            "     34/59     3.01G   0.04458   0.04087 0.0003078        73       512: 100% 23/23 [00:28<00:00,  1.22s/it]\n",
            "               Class     Images     Labels          P          R     mAP@.5 mAP@.5:.95: 100% 1/1 [00:01<00:00,  1.43s/it]\n",
            "                 all         70        137      0.699      0.628      0.616      0.261\n",
            "\n",
            "     Epoch   gpu_mem       box       obj       cls    labels  img_size\n",
            "     35/59     3.01G   0.04393   0.03847 0.0002369        71       512: 100% 23/23 [00:28<00:00,  1.22s/it]\n",
            "               Class     Images     Labels          P          R     mAP@.5 mAP@.5:.95: 100% 1/1 [00:01<00:00,  1.43s/it]\n",
            "                 all         70        137      0.704      0.625      0.639      0.294\n",
            "\n",
            "     Epoch   gpu_mem       box       obj       cls    labels  img_size\n",
            "     36/59     3.01G   0.04442    0.0393 0.0003479        95       512: 100% 23/23 [00:28<00:00,  1.22s/it]\n",
            "               Class     Images     Labels          P          R     mAP@.5 mAP@.5:.95: 100% 1/1 [00:01<00:00,  1.42s/it]\n",
            "                 all         70        137      0.702       0.62      0.626      0.264\n",
            "\n",
            "     Epoch   gpu_mem       box       obj       cls    labels  img_size\n",
            "     37/59     3.01G   0.04343   0.03884 0.0002287        69       512: 100% 23/23 [00:27<00:00,  1.22s/it]\n",
            "               Class     Images     Labels          P          R     mAP@.5 mAP@.5:.95: 100% 1/1 [00:01<00:00,  1.42s/it]\n",
            "                 all         70        137      0.741      0.628      0.651      0.252\n",
            "\n",
            "     Epoch   gpu_mem       box       obj       cls    labels  img_size\n",
            "     38/59     3.01G    0.0436   0.03905 0.0004159        80       512: 100% 23/23 [00:28<00:00,  1.22s/it]\n",
            "               Class     Images     Labels          P          R     mAP@.5 mAP@.5:.95: 100% 1/1 [00:01<00:00,  1.42s/it]\n",
            "                 all         70        137       0.66      0.613      0.595      0.244\n",
            "\n",
            "     Epoch   gpu_mem       box       obj       cls    labels  img_size\n",
            "     39/59     3.01G   0.04407   0.04036 0.0001716        80       512: 100% 23/23 [00:28<00:00,  1.22s/it]\n",
            "               Class     Images     Labels          P          R     mAP@.5 mAP@.5:.95: 100% 1/1 [00:01<00:00,  1.43s/it]\n",
            "                 all         70        137      0.754      0.584       0.65      0.275\n",
            "\n",
            "     Epoch   gpu_mem       box       obj       cls    labels  img_size\n",
            "     40/59     3.01G   0.04356   0.03992 0.0002812        80       512: 100% 23/23 [00:28<00:00,  1.22s/it]\n",
            "               Class     Images     Labels          P          R     mAP@.5 mAP@.5:.95: 100% 1/1 [00:01<00:00,  1.43s/it]\n",
            "                 all         70        137      0.664      0.635      0.575      0.262\n",
            "\n",
            "     Epoch   gpu_mem       box       obj       cls    labels  img_size\n",
            "     41/59     3.01G    0.0428   0.03824 0.0003307        82       512: 100% 23/23 [00:28<00:00,  1.22s/it]\n",
            "               Class     Images     Labels          P          R     mAP@.5 mAP@.5:.95: 100% 1/1 [00:01<00:00,  1.40s/it]\n",
            "                 all         70        137      0.669       0.65       0.63      0.289\n",
            "\n",
            "     Epoch   gpu_mem       box       obj       cls    labels  img_size\n",
            "     42/59     3.01G   0.04307   0.03928 0.0001832       114       512: 100% 23/23 [00:28<00:00,  1.22s/it]\n",
            "               Class     Images     Labels          P          R     mAP@.5 mAP@.5:.95: 100% 1/1 [00:01<00:00,  1.44s/it]\n",
            "                 all         70        137       0.62      0.642      0.596      0.277\n",
            "\n",
            "     Epoch   gpu_mem       box       obj       cls    labels  img_size\n",
            "     43/59     3.01G   0.04324   0.03953 0.0002871        82       512: 100% 23/23 [00:28<00:00,  1.22s/it]\n",
            "               Class     Images     Labels          P          R     mAP@.5 mAP@.5:.95: 100% 1/1 [00:01<00:00,  1.44s/it]\n",
            "                 all         70        137      0.617      0.635      0.538      0.224\n",
            "\n",
            "     Epoch   gpu_mem       box       obj       cls    labels  img_size\n",
            "     44/59     3.01G   0.04352   0.04009  0.000319        96       512: 100% 23/23 [00:28<00:00,  1.22s/it]\n",
            "               Class     Images     Labels          P          R     mAP@.5 mAP@.5:.95: 100% 1/1 [00:01<00:00,  1.44s/it]\n",
            "                 all         70        137      0.677      0.642      0.602      0.251\n",
            "\n",
            "     Epoch   gpu_mem       box       obj       cls    labels  img_size\n",
            "     45/59     3.01G   0.04306   0.03992 0.0002445       109       512: 100% 23/23 [00:28<00:00,  1.22s/it]\n",
            "               Class     Images     Labels          P          R     mAP@.5 mAP@.5:.95: 100% 1/1 [00:01<00:00,  1.42s/it]\n",
            "                 all         70        137      0.699      0.628      0.617      0.283\n",
            "\n",
            "     Epoch   gpu_mem       box       obj       cls    labels  img_size\n",
            "     46/59     3.01G   0.04321   0.03892 0.0002343        73       512: 100% 23/23 [00:28<00:00,  1.22s/it]\n",
            "               Class     Images     Labels          P          R     mAP@.5 mAP@.5:.95: 100% 1/1 [00:01<00:00,  1.43s/it]\n",
            "                 all         70        137      0.683      0.598      0.581      0.252\n",
            "\n",
            "     Epoch   gpu_mem       box       obj       cls    labels  img_size\n",
            "     47/59     3.01G   0.04179   0.03919 0.0003482        67       512: 100% 23/23 [00:28<00:00,  1.22s/it]\n",
            "               Class     Images     Labels          P          R     mAP@.5 mAP@.5:.95: 100% 1/1 [00:01<00:00,  1.42s/it]\n",
            "                 all         70        137      0.717      0.628      0.622      0.271\n",
            "\n",
            "     Epoch   gpu_mem       box       obj       cls    labels  img_size\n",
            "     48/59     3.01G   0.04194   0.04076 0.0001322       100       512: 100% 23/23 [00:28<00:00,  1.22s/it]\n",
            "               Class     Images     Labels          P          R     mAP@.5 mAP@.5:.95: 100% 1/1 [00:01<00:00,  1.47s/it]\n",
            "                 all         70        137      0.638      0.657      0.612      0.278\n",
            "\n",
            "     Epoch   gpu_mem       box       obj       cls    labels  img_size\n",
            "     49/59     3.01G   0.04106   0.03815 0.0002528        69       512: 100% 23/23 [00:28<00:00,  1.22s/it]\n",
            "               Class     Images     Labels          P          R     mAP@.5 mAP@.5:.95: 100% 1/1 [00:01<00:00,  1.42s/it]\n",
            "                 all         70        137      0.714       0.62       0.63      0.275\n",
            "\n",
            "     Epoch   gpu_mem       box       obj       cls    labels  img_size\n",
            "     50/59     3.01G    0.0417   0.03915 0.0002743        67       512: 100% 23/23 [00:28<00:00,  1.22s/it]\n",
            "               Class     Images     Labels          P          R     mAP@.5 mAP@.5:.95: 100% 1/1 [00:01<00:00,  1.44s/it]\n",
            "                 all         70        137      0.714       0.62      0.622       0.27\n",
            "\n",
            "     Epoch   gpu_mem       box       obj       cls    labels  img_size\n",
            "     51/59     3.01G   0.04208   0.03884 0.0002136        69       512: 100% 23/23 [00:28<00:00,  1.22s/it]\n",
            "               Class     Images     Labels          P          R     mAP@.5 mAP@.5:.95: 100% 1/1 [00:01<00:00,  1.41s/it]\n",
            "                 all         70        137      0.676      0.628      0.609       0.28\n",
            "\n",
            "     Epoch   gpu_mem       box       obj       cls    labels  img_size\n",
            "     52/59     3.01G   0.04147   0.03829  0.000128        85       512: 100% 23/23 [00:28<00:00,  1.22s/it]\n",
            "               Class     Images     Labels          P          R     mAP@.5 mAP@.5:.95: 100% 1/1 [00:01<00:00,  1.42s/it]\n",
            "                 all         70        137      0.675       0.62      0.601      0.266\n",
            "\n",
            "     Epoch   gpu_mem       box       obj       cls    labels  img_size\n",
            "     53/59     3.01G   0.04175   0.03862 0.0001884        49       512: 100% 23/23 [00:28<00:00,  1.22s/it]\n",
            "               Class     Images     Labels          P          R     mAP@.5 mAP@.5:.95: 100% 1/1 [00:01<00:00,  1.44s/it]\n",
            "                 all         70        137      0.677      0.628      0.598      0.268\n",
            "\n",
            "     Epoch   gpu_mem       box       obj       cls    labels  img_size\n",
            "     54/59     3.01G   0.04099     0.038 0.0002661        86       512: 100% 23/23 [00:28<00:00,  1.22s/it]\n",
            "               Class     Images     Labels          P          R     mAP@.5 mAP@.5:.95: 100% 1/1 [00:01<00:00,  1.45s/it]\n",
            "                 all         70        137      0.743      0.613      0.601      0.257\n",
            "\n",
            "     Epoch   gpu_mem       box       obj       cls    labels  img_size\n",
            "     55/59     3.01G   0.04137   0.03866 0.0002903        74       512: 100% 23/23 [00:28<00:00,  1.23s/it]\n",
            "               Class     Images     Labels          P          R     mAP@.5 mAP@.5:.95: 100% 1/1 [00:01<00:00,  1.42s/it]\n",
            "                 all         70        137      0.719      0.635      0.597      0.263\n",
            "\n",
            "     Epoch   gpu_mem       box       obj       cls    labels  img_size\n",
            "     56/59     3.01G   0.04046   0.03678 0.0003277        48       512: 100% 23/23 [00:28<00:00,  1.22s/it]\n",
            "               Class     Images     Labels          P          R     mAP@.5 mAP@.5:.95: 100% 1/1 [00:01<00:00,  1.43s/it]\n",
            "                 all         70        137        0.7      0.664      0.612      0.276\n",
            "\n",
            "     Epoch   gpu_mem       box       obj       cls    labels  img_size\n",
            "     57/59     3.01G   0.04084   0.03974 0.0005088        89       512: 100% 23/23 [00:28<00:00,  1.22s/it]\n",
            "               Class     Images     Labels          P          R     mAP@.5 mAP@.5:.95: 100% 1/1 [00:01<00:00,  1.43s/it]\n",
            "                 all         70        137      0.685      0.635        0.6      0.253\n",
            "\n",
            "     Epoch   gpu_mem       box       obj       cls    labels  img_size\n",
            "     58/59     3.01G   0.04069   0.03764 0.0004072        79       512: 100% 23/23 [00:28<00:00,  1.22s/it]\n",
            "               Class     Images     Labels          P          R     mAP@.5 mAP@.5:.95: 100% 1/1 [00:01<00:00,  1.43s/it]\n",
            "                 all         70        137       0.69      0.635      0.615       0.27\n",
            "\n",
            "     Epoch   gpu_mem       box       obj       cls    labels  img_size\n",
            "     59/59     3.01G   0.04192   0.03994 0.0002082       104       512: 100% 23/23 [00:28<00:00,  1.22s/it]\n",
            "               Class     Images     Labels          P          R     mAP@.5 mAP@.5:.95: 100% 1/1 [00:01<00:00,  1.42s/it]\n",
            "                 all         70        137      0.648      0.671      0.601      0.253\n",
            "\n",
            "60 epochs completed in 0.498 hours.\n",
            "Optimizer stripped from runs/train/exp3/weights/last.pt, 14.4MB\n",
            "Optimizer stripped from runs/train/exp3/weights/best.pt, 14.4MB\n",
            "\n",
            "Validating runs/train/exp3/weights/best.pt...\n",
            "Fusing layers... \n",
            "Model Summary: 213 layers, 7015519 parameters, 0 gradients, 15.8 GFLOPs\n",
            "               Class     Images     Labels          P          R     mAP@.5 mAP@.5:.95: 100% 1/1 [00:01<00:00,  1.93s/it]\n",
            "                 all         70        137      0.674       0.65      0.631      0.297\n",
            "              Grapes         70        137      0.674       0.65      0.631      0.297\n",
            "Results saved to \u001b[1mruns/train/exp3\u001b[0m\n"
          ]
        }
      ]
    },
    {
      "cell_type": "code",
      "metadata": {
        "id": "ZbUn4_b9GCKO"
      },
      "source": [
        "#display inference on ALL test images\n",
        "\n",
        "import glob\n",
        "from IPython.display import Image, display\n",
        "\n",
        "for imageName in glob.glob('/content/yolov5/runs/detect/exp/*.jpg'): #assuming JPG\n",
        "    display(Image(filename=imageName))\n",
        "    print(\"\\n\")"
      ],
      "execution_count": null,
      "outputs": []
    },
    {
      "cell_type": "code",
      "metadata": {
        "colab": {
          "base_uri": "https://localhost:8080/",
          "height": 17
        },
        "id": "7iiObB2WCMh6",
        "outputId": "5c2c1e8a-a857-4284-d627-42f99724c9e8"
      },
      "source": [
        "#export your model's weights for future use\n",
        "from google.colab import files\n",
        "files.download('./runs/train/exp/weights/best.pt')"
      ],
      "execution_count": null,
      "outputs": [
        {
          "output_type": "display_data",
          "data": {
            "application/javascript": [
              "\n",
              "    async function download(id, filename, size) {\n",
              "      if (!google.colab.kernel.accessAllowed) {\n",
              "        return;\n",
              "      }\n",
              "      const div = document.createElement('div');\n",
              "      const label = document.createElement('label');\n",
              "      label.textContent = `Downloading \"${filename}\": `;\n",
              "      div.appendChild(label);\n",
              "      const progress = document.createElement('progress');\n",
              "      progress.max = size;\n",
              "      div.appendChild(progress);\n",
              "      document.body.appendChild(div);\n",
              "\n",
              "      const buffers = [];\n",
              "      let downloaded = 0;\n",
              "\n",
              "      const channel = await google.colab.kernel.comms.open(id);\n",
              "      // Send a message to notify the kernel that we're ready.\n",
              "      channel.send({})\n",
              "\n",
              "      for await (const message of channel.messages) {\n",
              "        // Send a message to notify the kernel that we're ready.\n",
              "        channel.send({})\n",
              "        if (message.buffers) {\n",
              "          for (const buffer of message.buffers) {\n",
              "            buffers.push(buffer);\n",
              "            downloaded += buffer.byteLength;\n",
              "            progress.value = downloaded;\n",
              "          }\n",
              "        }\n",
              "      }\n",
              "      const blob = new Blob(buffers, {type: 'application/binary'});\n",
              "      const a = document.createElement('a');\n",
              "      a.href = window.URL.createObjectURL(blob);\n",
              "      a.download = filename;\n",
              "      div.appendChild(a);\n",
              "      a.click();\n",
              "      div.remove();\n",
              "    }\n",
              "  "
            ],
            "text/plain": [
              "<IPython.core.display.Javascript object>"
            ]
          },
          "metadata": {}
        },
        {
          "output_type": "display_data",
          "data": {
            "application/javascript": [
              "download(\"download_bd6fc902-d327-4332-bf86-0f81058a7d7f\", \"best.pt\", 14358689)"
            ],
            "text/plain": [
              "<IPython.core.display.Javascript object>"
            ]
          },
          "metadata": {}
        }
      ]
    },
    {
      "cell_type": "code",
      "metadata": {
        "id": "rNn-obvOGITm"
      },
      "source": [
        ""
      ],
      "execution_count": null,
      "outputs": []
    }
  ]
}